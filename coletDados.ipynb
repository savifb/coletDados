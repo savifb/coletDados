{
 "cells": [
  {
   "cell_type": "markdown",
   "metadata": {},
   "source": [
    "DADOS ABERTOS DAS MANIFESTAÇÕES DA OUVIDORIA"
   ]
  },
  {
   "cell_type": "code",
   "execution_count": null,
   "metadata": {},
   "outputs": [
    {
     "name": "stderr",
     "output_type": "stream",
     "text": [
      "C:\\Users\\savio.sousa\\AppData\\Local\\Temp\\ipykernel_53864\\4013563745.py:3: DtypeWarning: Columns (20) have mixed types. Specify dtype option on import or set low_memory=False.\n",
      "  dataframe = pd.read_csv(f\"manifestacoes-ouvidoria.csv\", sep=\";\", encoding=\"latin8\")\n"
     ]
    },
    {
     "name": "stdout",
     "output_type": "stream",
     "text": [
      "Empty DataFrame\n",
      "Columns: [Data Registro, Data Prazo Resposta, Data Resposta, Faixa Etária, Raça/Cor, Gênero, Município Manifestante, UF do Município Manifestante, Município Manifestação, UF do Município Manifestação, Tipo Manifestação, Código Órgão Siorg, Nome Órgão, Assunto, Dias para Resolução, Dias de Atraso, Formulário, Situação, Esfera, Serviço, Outro Serviço, Demanda Atendida, Satisfação]\n",
      "Index: []\n",
      "\n",
      "[0 rows x 23 columns]\n",
      "<class 'pandas.core.frame.DataFrame'>\n",
      "RangeIndex: 6122179 entries, 0 to 6122178\n",
      "Data columns (total 23 columns):\n",
      " #   Column                        Dtype  \n",
      "---  ------                        -----  \n",
      " 0   Data Registro                 object \n",
      " 1   Data Prazo Resposta           object \n",
      " 2   Data Resposta                 object \n",
      " 3   Faixa Etária                  object \n",
      " 4   Raça/Cor                      object \n",
      " 5   Gênero                        object \n",
      " 6   Município Manifestante        object \n",
      " 7   UF do Município Manifestante  object \n",
      " 8   Município Manifestação        object \n",
      " 9   UF do Município Manifestação  object \n",
      " 10  Tipo Manifestação             object \n",
      " 11  Código Órgão Siorg            float64\n",
      " 12  Nome Órgão                    object \n",
      " 13  Assunto                       object \n",
      " 14  Dias para Resolução           float64\n",
      " 15  Dias de Atraso                float64\n",
      " 16  Formulário                    object \n",
      " 17  Situação                      object \n",
      " 18  Esfera                        object \n",
      " 19  Serviço                       object \n",
      " 20  Outro Serviço                 object \n",
      " 21  Demanda Atendida              object \n",
      " 22  Satisfação                    object \n",
      "dtypes: float64(3), object(20)\n",
      "memory usage: 1.0+ GB\n"
     ]
    },
    {
     "name": "stderr",
     "output_type": "stream",
     "text": [
      "C:\\Users\\savio.sousa\\AppData\\Local\\Temp\\ipykernel_53864\\4013563745.py:7: FutureWarning: Setting an item of incompatible dtype is deprecated and will raise an error in a future version of pandas. Value '' has dtype incompatible with float64, please explicitly cast to a compatible dtype first.\n",
      "  dataframe.fillna(\"\", inplace=True)\n"
     ]
    },
    {
     "name": "stdout",
     "output_type": "stream",
     "text": [
      "Index(['Data Registro', 'Data Prazo Resposta', 'Data Resposta', 'Faixa Etária',\n",
      "       'Raça/Cor', 'Gênero', 'Município Manifestante',\n",
      "       'UF do Município Manifestante', 'Município Manifestação',\n",
      "       'UF do Município Manifestação', 'Tipo Manifestação',\n",
      "       'Código Órgão Siorg', 'Nome Órgão', 'Assunto', 'Dias para Resolução',\n",
      "       'Dias de Atraso', 'Formulário', 'Situação', 'Esfera', 'Serviço',\n",
      "       'Outro Serviço', 'Demanda Atendida', 'Satisfação'],\n",
      "      dtype='object')\n",
      "6122179\n"
     ]
    }
   ],
   "source": [
    "import pandas as pd \n",
    "#Informações do dataframe\n",
    "dataframe = pd.read_csv(f\"manifestacoes-ouvidoria.csv\", sep=\";\", encoding=\"latin8\")\n",
    "print(dataframe.head(0))\n",
    "dataframe.info()\n",
    "dataframe.describe()\n",
    "dataframe.fillna(\"\", inplace=True)\n"
   ]
  },
  {
   "cell_type": "code",
   "execution_count": 31,
   "metadata": {},
   "outputs": [
    {
     "name": "stdout",
     "output_type": "stream",
     "text": [
      "<class 'pandas.core.frame.DataFrame'>\n",
      "Index: 210292 entries, 17 to 6122163\n",
      "Data columns (total 23 columns):\n",
      " #   Column                        Non-Null Count   Dtype \n",
      "---  ------                        --------------   ----- \n",
      " 0   Data Registro                 210292 non-null  object\n",
      " 1   Data Prazo Resposta           210292 non-null  object\n",
      " 2   Data Resposta                 210292 non-null  object\n",
      " 3   Faixa Etária                  210292 non-null  object\n",
      " 4   Raça/Cor                      210292 non-null  object\n",
      " 5   Gênero                        210292 non-null  object\n",
      " 6   Município Manifestante        210292 non-null  object\n",
      " 7   UF do Município Manifestante  210292 non-null  object\n",
      " 8   Município Manifestação        210292 non-null  object\n",
      " 9   UF do Município Manifestação  210292 non-null  object\n",
      " 10  Tipo Manifestação             210292 non-null  object\n",
      " 11  Código Órgão Siorg            210292 non-null  object\n",
      " 12  Nome Órgão                    210292 non-null  object\n",
      " 13  Assunto                       210292 non-null  object\n",
      " 14  Dias para Resolução           210292 non-null  object\n",
      " 15  Dias de Atraso                210292 non-null  object\n",
      " 16  Formulário                    210292 non-null  object\n",
      " 17  Situação                      210292 non-null  object\n",
      " 18  Esfera                        210292 non-null  object\n",
      " 19  Serviço                       210292 non-null  object\n",
      " 20  Outro Serviço                 210292 non-null  object\n",
      " 21  Demanda Atendida              210292 non-null  object\n",
      " 22  Satisfação                    210292 non-null  object\n",
      "dtypes: object(23)\n",
      "memory usage: 38.5+ MB\n",
      "Data mais antiga: 2014-12-26 00:00:00\n",
      "Data mais recente: 2025-02-07 00:00:00\n"
     ]
    },
    {
     "name": "stderr",
     "output_type": "stream",
     "text": [
      "C:\\Users\\savio.sousa\\AppData\\Local\\Temp\\ipykernel_53864\\4026597275.py:7: UserWarning: Parsing dates in %d/%m/%Y format when dayfirst=False (the default) was specified. Pass `dayfirst=True` or specify a format to silence this warning.\n",
      "  dataframe_DF_manifestacao['Data Registro'] = pd.to_datetime(dataframe_DF_manifestacao['Data Registro'], errors='coerce')\n",
      "C:\\Users\\savio.sousa\\AppData\\Local\\Temp\\ipykernel_53864\\4026597275.py:7: SettingWithCopyWarning: \n",
      "A value is trying to be set on a copy of a slice from a DataFrame.\n",
      "Try using .loc[row_indexer,col_indexer] = value instead\n",
      "\n",
      "See the caveats in the documentation: https://pandas.pydata.org/pandas-docs/stable/user_guide/indexing.html#returning-a-view-versus-a-copy\n",
      "  dataframe_DF_manifestacao['Data Registro'] = pd.to_datetime(dataframe_DF_manifestacao['Data Registro'], errors='coerce')\n"
     ]
    }
   ],
   "source": [
    "# manifestações do DF\n",
    "dataframe_DF_manifestacao = dataframe[(dataframe[\"UF do Município Manifestação\"] == \"DF\") | (dataframe[\"UF do Município Manifestante\"] == \"DF\")]\n",
    "\n",
    "dataframe_DF_manifestacao.info()\n",
    "dataframe_DF_manifestacao.describe()\n",
    "\n",
    "dataframe_DF_manifestacao['Data Registro'] = pd.to_datetime(dataframe_DF_manifestacao['Data Registro'], errors='coerce')\n",
    "data_mais_antiga = dataframe_DF_manifestacao['Data Registro'].min()\n",
    "data_mais_recente = dataframe_DF_manifestacao['Data Registro'].max()\n",
    "\n",
    "print(f\"Data mais antiga: {data_mais_antiga}\")\n",
    "print(f\"Data mais recente: {data_mais_recente}\")\n",
    "\n"
   ]
  },
  {
   "cell_type": "code",
   "execution_count": null,
   "metadata": {},
   "outputs": [
    {
     "name": "stdout",
     "output_type": "stream",
     "text": [
      "<class 'pandas.core.frame.DataFrame'>\n",
      "Index: 59701 entries, 17 to 6122026\n",
      "Data columns (total 23 columns):\n",
      " #   Column                        Non-Null Count  Dtype \n",
      "---  ------                        --------------  ----- \n",
      " 0   Data Registro                 59701 non-null  object\n",
      " 1   Data Prazo Resposta           59701 non-null  object\n",
      " 2   Data Resposta                 59701 non-null  object\n",
      " 3   Faixa Etária                  59701 non-null  object\n",
      " 4   Raça/Cor                      59701 non-null  object\n",
      " 5   Gênero                        59701 non-null  object\n",
      " 6   Município Manifestante        59701 non-null  object\n",
      " 7   UF do Município Manifestante  59701 non-null  object\n",
      " 8   Município Manifestação        59701 non-null  object\n",
      " 9   UF do Município Manifestação  59701 non-null  object\n",
      " 10  Tipo Manifestação             59701 non-null  object\n",
      " 11  Código Órgão Siorg            59701 non-null  object\n",
      " 12  Nome Órgão                    59701 non-null  object\n",
      " 13  Assunto                       59701 non-null  object\n",
      " 14  Dias para Resolução           59701 non-null  object\n",
      " 15  Dias de Atraso                59701 non-null  object\n",
      " 16  Formulário                    59701 non-null  object\n",
      " 17  Situação                      59701 non-null  object\n",
      " 18  Esfera                        59701 non-null  object\n",
      " 19  Serviço                       59701 non-null  object\n",
      " 20  Outro Serviço                 59701 non-null  object\n",
      " 21  Demanda Atendida              59701 non-null  object\n",
      " 22  Satisfação                    59701 non-null  object\n",
      "dtypes: object(23)\n",
      "memory usage: 10.9+ MB\n"
     ]
    }
   ],
   "source": [
    "dataframe_DF_manifestante = dataframe[dataframe[\"UF do Município Manifestante\"] == \"DF\"]\n",
    "dataframe_DF_manifestante.describe()\n",
    "dataframe_DF_manifestante.info()\n",
    "dataframe"
   ]
  },
  {
   "cell_type": "code",
   "execution_count": null,
   "metadata": {},
   "outputs": [],
   "source": []
  }
 ],
 "metadata": {
  "kernelspec": {
   "display_name": ".venv",
   "language": "python",
   "name": "python3"
  },
  "language_info": {
   "codemirror_mode": {
    "name": "ipython",
    "version": 3
   },
   "file_extension": ".py",
   "mimetype": "text/x-python",
   "name": "python",
   "nbconvert_exporter": "python",
   "pygments_lexer": "ipython3",
   "version": "3.12.6"
  }
 },
 "nbformat": 4,
 "nbformat_minor": 2
}
